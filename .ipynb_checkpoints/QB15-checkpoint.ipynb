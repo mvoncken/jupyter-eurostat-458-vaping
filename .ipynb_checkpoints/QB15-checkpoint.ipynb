{
 "cells": [
  {
   "cell_type": "code",
   "execution_count": 1,
   "metadata": {},
   "outputs": [
    {
     "ename": "SyntaxError",
     "evalue": "invalid syntax (mysetup.py, line 5)",
     "output_type": "error",
     "traceback": [
      "Traceback \u001b[0;36m(most recent call last)\u001b[0m:\n",
      "  File \u001b[1;32m\"/Users/martijnvoncken/.local/share/virtualenvs/labs-HAGneq6_/lib/python3.7/site-packages/IPython/core/interactiveshell.py\"\u001b[0m, line \u001b[1;32m3267\u001b[0m, in \u001b[1;35mrun_code\u001b[0m\n    exec(code_obj, self.user_global_ns, self.user_ns)\n",
      "\u001b[0;36m  File \u001b[0;32m\"<ipython-input-1-0db066f61a57>\"\u001b[0;36m, line \u001b[0;32m15\u001b[0;36m, in \u001b[0;35m<module>\u001b[0;36m\u001b[0m\n\u001b[0;31m    from mysetup import *;\u001b[0m\n",
      "\u001b[0;36m  File \u001b[0;32m\"/Users/martijnvoncken/pp/labs/mysetup.py\"\u001b[0;36m, line \u001b[0;32m5\u001b[0m\n\u001b[0;31m    %matplotlib inline\u001b[0m\n\u001b[0m    ^\u001b[0m\n\u001b[0;31mSyntaxError\u001b[0m\u001b[0;31m:\u001b[0m invalid syntax\n"
     ]
    }
   ],
   "source": [
    "%matplotlib inline\n",
    "import seaborn\n",
    "from IPython.display import display, HTML\n",
    "\n",
    "\"\"\"\n",
    "Did ecigs help you quit smoking?\n",
    "--\n",
    "14:#QB15 You said that you smoke or used to smoke tobacco but also use, \n",
    "     used or tried electronic cigarettes or a similar device. \n",
    "    Did the use of electronic cigarettes or any similar device help you to stop or reduce your tobacco consumption? \n",
    "\n",
    "12:Yes, you stopped smoking tobacco completely\n",
    "--\n",
    "\"\"\"\n",
    "from mysetup import *;\n",
    "# the data is badly structured, fix that first.\n",
    "df = pandas.read_excel(A2PATH,sheet_name=\"QB15\", header=7) # row 7 for correct headers.\n",
    "display(toggleDisplay(\"all Questions in the sheet\", df.iloc[:,1].to_frame(\"Q\")))\n",
    "data = df.iloc[[2,14],2:] # row 14 is the \"yes\" row, data starts at row 2.\n",
    "# transpose & sort data\n",
    "data = data.T.sort_values(by=14, ascending=False)\n"
   ]
  },
  {
   "cell_type": "code",
   "execution_count": null,
   "metadata": {},
   "outputs": [],
   "source": [
    "ax = data.plot(kind=\"bar\", figsize=[18,5])\n",
    "ax.legend([\"Yes, you stopped smoking tobacco completely\",\n",
    "           \"Did the use of electronic cigarettes or any similar device help you to stop or reduce your tobacco consumption?\"])\n"
   ]
  },
  {
   "cell_type": "code",
   "execution_count": null,
   "metadata": {},
   "outputs": [],
   "source": [
    "toggleDisplay(\"data\",data)"
   ]
  },
  {
   "cell_type": "markdown",
   "metadata": {},
   "source": [
    "14% of ever-vapers in the EU stopped completely (self reported)\n",
    "what percentage tried vaping?\n",
    "\n",
    "====\n",
    "*Perception of harm vs success?"
   ]
  },
  {
   "cell_type": "code",
   "execution_count": null,
   "metadata": {},
   "outputs": [],
   "source": []
  },
  {
   "cell_type": "code",
   "execution_count": null,
   "metadata": {},
   "outputs": [],
   "source": [
    "%%html\n",
    "<script src=\"https://cdn.rawgit.com/parente/4c3e6936d0d7a46fd071/raw/65b816fb9bdd3c28b4ddf3af602bfd6015486383/code_toggle.js\"></script>"
   ]
  },
  {
   "cell_type": "code",
   "execution_count": null,
   "metadata": {},
   "outputs": [],
   "source": []
  }
 ],
 "metadata": {
  "kernelspec": {
   "display_name": "Python 3",
   "language": "python",
   "name": "python3"
  },
  "language_info": {
   "codemirror_mode": {
    "name": "ipython",
    "version": 3
   },
   "file_extension": ".py",
   "mimetype": "text/x-python",
   "name": "python",
   "nbconvert_exporter": "python",
   "pygments_lexer": "ipython3",
   "version": "3.7.0"
  }
 },
 "nbformat": 4,
 "nbformat_minor": 2
}
